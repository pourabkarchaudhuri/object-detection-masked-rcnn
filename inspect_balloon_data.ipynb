{
 "cells": [
  {
   "cell_type": "markdown",
   "metadata": {},
   "source": [
    "# Mask R-CNN - Inspect Balloon Training Data\n",
    "\n",
    "Inspect and visualize data loading and pre-processing code."
   ]
  },
  {
   "cell_type": "code",
   "execution_count": 1,
   "metadata": {},
   "outputs": [
    {
     "name": "stdout",
     "output_type": "stream",
     "text": [
      "ROOT_DIR :  C:\\Users\\36023\\Desktop\\Mask_RCNN\n"
     ]
    },
    {
     "name": "stderr",
     "output_type": "stream",
     "text": [
      "Using TensorFlow backend.\n"
     ]
    }
   ],
   "source": [
    "import os\n",
    "import sys\n",
    "import itertools\n",
    "import math\n",
    "import logging\n",
    "import json\n",
    "import re\n",
    "import random\n",
    "from collections import OrderedDict\n",
    "import numpy as np\n",
    "import matplotlib\n",
    "import matplotlib.pyplot as plt\n",
    "import matplotlib.patches as patches\n",
    "import matplotlib.lines as lines\n",
    "from matplotlib.patches import Polygon\n",
    "\n",
    "# Root directory of the project\n",
    "ROOT_DIR = os.path.abspath(\"\")\n",
    "print(\"ROOT_DIR : \", ROOT_DIR)\n",
    "\n",
    "# Import Mask RCNN\n",
    "sys.path.append(ROOT_DIR)  # To find local version of the library\n",
    "from mrcnn import utils\n",
    "from mrcnn import visualize\n",
    "from mrcnn.visualize import display_images\n",
    "import mrcnn.model as modellib\n",
    "from mrcnn.model import log\n",
    "\n",
    "import dataset_loader\n",
    "\n",
    "%matplotlib inline "
   ]
  },
  {
   "cell_type": "markdown",
   "metadata": {},
   "source": [
    "## Configurations\n",
    "\n",
    "Configurations are defined in balloon.py"
   ]
  },
  {
   "cell_type": "code",
   "execution_count": 2,
   "metadata": {},
   "outputs": [
    {
     "name": "stdout",
     "output_type": "stream",
     "text": [
      "C:\\Users\\36023\\Desktop\\Mask_RCNN\\datasets/inhaler\n"
     ]
    }
   ],
   "source": [
    "config = dataset_loader.BalloonConfig()\n",
    "DATASET_DIR = os.path.join(ROOT_DIR, \"datasets/inhaler\")\n",
    "print(DATASET_DIR)"
   ]
  },
  {
   "cell_type": "markdown",
   "metadata": {},
   "source": [
    "## Dataset"
   ]
  },
  {
   "cell_type": "code",
   "execution_count": 3,
   "metadata": {},
   "outputs": [
    {
     "name": "stdout",
     "output_type": "stream",
     "text": [
      "dataset_dir :  C:\\Users\\36023\\Desktop\\Mask_RCNN\\datasets/inhaler\\train\n",
      "annotation path :  C:\\Users\\36023\\Desktop\\Mask_RCNN\\datasets/inhaler\\train\\via_region_data.json\n",
      "[{'ui': {'annotation_editor_height': 25, 'annotation_editor_fontsize': 0.8, 'leftsidebar_width': 18, 'image_grid': {'img_height': 80, 'rshape_fill': 'none', 'rshape_fill_opacity': 0.3, 'rshape_stroke': 'yellow', 'rshape_stroke_width': 2, 'show_region_shape': True, 'show_image_policy': 'all'}, 'image': {'region_label': '__via_region_id__', 'region_color': '__via_default_region_color__', 'region_label_font': '10px Sans', 'on_image_annotation_editor_placement': 'NEAR_REGION'}}, 'core': {'buffer_size': 18, 'filepath': {}, 'default_filepath': ''}, 'project': {'name': 'via_project_28May2019_14h57m'}}, {'1. 280px-asthmainhaler.jpg13560': {'filename': '1. 280px-asthmainhaler.jpg', 'size': 13560, 'regions': [{'shape_attributes': {'name': 'polyline', 'all_points_x': [86, 108, 120, 165, 179, 182, 219, 229, 227, 240, 258, 201, 154, 161, 94, 77, 67, 75, 69, 34, 38, 14, 86, 86], 'all_points_y': [24, 64, 54, 152, 155, 163, 170, 200, 212, 213, 228, 299, 262, 262, 239, 231, 200, 194, 184, 116, 110, 60, 24, 26]}, 'region_attributes': {}}], 'file_attributes': {}}, '2. ventorlin-inhaler-500x500.jpg40099': {'filename': '2. ventorlin-inhaler-500x500.jpg', 'size': 40099, 'regions': [{'shape_attributes': {'name': 'polyline', 'all_points_x': [99, 171, 176, 192, 214, 250, 242, 244, 251, 243, 206, 170, 128, 123, 101, 107, 99], 'all_points_y': [152, 144, 182, 186, 354, 376, 388, 404, 406, 416, 432, 428, 400, 365, 205, 197, 152]}, 'region_attributes': {}}], 'file_attributes': {}}, '3. asthma-inhaler-0000.jpg56078': {'filename': '3. asthma-inhaler-0000.jpg', 'size': 56078, 'regions': [{'shape_attributes': {'name': 'polyline', 'all_points_x': [791, 1006, 1062, 1101, 1237, 1421, 1444, 1444, 1377, 1340, 1287, 1253, 1227, 947, 925, 935, 795, 854, 791], 'all_points_y': [182, 114, 278, 268, 805, 833, 858, 983, 1056, 1073, 1066, 1058, 1087, 1036, 931, 916, 414, 381, 180]}, 'region_attributes': {}}], 'file_attributes': {}}, '5. inhaler_1229322.jpg73796': {'filename': '5. inhaler_1229322.jpg', 'size': 73796, 'regions': [{'shape_attributes': {'name': 'polyline', 'all_points_x': [236, 289, 344, 393, 440, 462, 489, 548, 550, 643, 765, 818, 825, 795, 751, 710, 606, 509, 364, 362, 247, 265, 232], 'all_points_y': [88, 52, 35, 26, 25, 35, 146, 155, 167, 526, 526, 557, 682, 718, 735, 739, 735, 735, 723, 712, 268, 239, 86]}, 'region_attributes': {}}], 'file_attributes': {}}, '6. inhaler.png273712': {'filename': '6. inhaler.png', 'size': 273712, 'regions': [{'shape_attributes': {'name': 'polyline', 'all_points_x': [164, 258, 251, 262, 225, 236, 228, 230, 149, 122, 86, 69, 53, 53, 52, 53, 60, 82, 95, 96, 113, 145, 151, 164], 'all_points_y': [105, 119, 190, 197, 417, 434, 442, 459, 481, 477, 483, 480, 459, 440, 422, 417, 413, 408, 405, 399, 392, 156, 153, 105]}, 'region_attributes': {}}], 'file_attributes': {}}, '7. inhaler_mdi.jpg68512': {'filename': '7. inhaler_mdi.jpg', 'size': 68512, 'regions': [{'shape_attributes': {'name': 'polyline', 'all_points_x': [195, 221, 247, 272, 278, 282, 288, 300, 306, 356, 424, 426, 420, 422, 428, 417, 405, 393, 380, 264, 258, 192, 209, 194], 'all_points_y': [83, 69, 63, 62, 64, 84, 109, 102, 104, 308, 326, 335, 337, 362, 368, 381, 400, 406, 409, 385, 381, 150, 143, 84]}, 'region_attributes': {}}], 'file_attributes': {}}, '8. salbutamol-inhaler-500x500.jpg26376': {'filename': '8. salbutamol-inhaler-500x500.jpg', 'size': 26376, 'regions': [{'shape_attributes': {'name': 'polyline', 'all_points_x': [175, 193, 218, 238, 250, 237, 244, 190, 96, 40, 40, 54, 115, 159, 165, 174], 'all_points_y': [150, 148, 152, 160, 172, 222, 228, 433, 443, 440, 397, 358, 353, 192, 189, 149]}, 'region_attributes': {}}], 'file_attributes': {}}, '9. inhaler_grande.jpg23733': {'filename': '9. inhaler_grande.jpg', 'size': 23733, 'regions': [{'shape_attributes': {'name': 'polyline', 'all_points_x': [117, 133, 154, 188, 226, 254, 265, 278, 287, 304, 313, 355, 466, 483, 494, 500, 495, 497, 499, 484, 454, 386, 341, 239, 201, 183, 170, 113, 138, 117], 'all_points_y': [108, 90, 81, 70, 62, 60, 68, 97, 133, 136, 152, 324, 328, 342, 363, 379, 385, 442, 455, 460, 471, 474, 476, 487, 483, 441, 432, 230, 204, 109]}, 'region_attributes': {}}], 'file_attributes': {}}, '12. ventolin-inhaler-with-box-picture-300x300.jpg9993': {'filename': '12. ventolin-inhaler-with-box-picture-300x300.jpg', 'size': 9993, 'regions': [{'shape_attributes': {'name': 'polyline', 'all_points_x': [146, 153, 165, 190, 197, 206, 229, 259, 258, 242, 228, 209, 170, 167, 145, 150, 146], 'all_points_y': [93, 84, 84, 79, 105, 106, 224, 240, 264, 275, 279, 276, 258, 241, 126, 123, 92]}, 'region_attributes': {}}], 'file_attributes': {}}, '14. asthma-inhaler-and-cartridge-with-expiration-date.jpg31368': {'filename': '14. asthma-inhaler-and-cartridge-with-expiration-date.jpg', 'size': 31368, 'regions': [{'shape_attributes': {'name': 'polyline', 'all_points_x': [650, 683, 721, 782, 790, 708, 519, 495, 485, 482, 483, 505, 581, 653], 'all_points_y': [179, 174, 188, 243, 245, 551, 557, 546, 530, 513, 464, 454, 448, 179]}, 'region_attributes': {}}], 'file_attributes': {}}, '16. salbutamol-inhaler-500x500.jpg30178': {'filename': '16. salbutamol-inhaler-500x500.jpg', 'size': 30178, 'regions': [{'shape_attributes': {'name': 'polyline', 'all_points_x': [366, 388, 414, 444, 453, 436, 451, 380, 353, 223, 214, 204, 196, 197, 199, 202, 210, 220, 238, 259, 279, 339, 354, 368], 'all_points_y': [99, 96, 103, 116, 127, 186, 196, 448, 447, 452, 447, 435, 421, 408, 387, 372, 366, 364, 362, 361, 361, 145, 140, 98]}, 'region_attributes': {}}], 'file_attributes': {}}, '17. inhaler-2520471_1280-1024x678.jpg19172': {'filename': '17. inhaler-2520471_1280-1024x678.jpg', 'size': 19172, 'regions': [{'shape_attributes': {'name': 'polyline', 'all_points_x': [539, 558, 586, 612, 636, 638, 619, 638, 564, 577, 569, 548, 433, 424, 357, 355, 376, 389, 451, 515, 539], 'all_points_y': [94, 89, 94, 103, 116, 129, 191, 203, 447, 460, 486, 495, 482, 464, 454, 404, 371, 367, 370, 143, 94]}, 'region_attributes': {}}], 'file_attributes': {}}, '18. 6546-0-proventil-inhaler-for-cats-dogs-rx.jpg19739': {'filename': '18. 6546-0-proventil-inhaler-for-cats-dogs-rx.jpg', 'size': 19739, 'regions': [{'shape_attributes': {'name': 'polyline', 'all_points_x': [121, 153, 178, 210, 251, 263, 277, 354, 338, 344, 293, 267, 250, 229, 192, 148, 132, 104, 94, 107, 123], 'all_points_y': [279, 283, 296, 300, 160, 158, 117, 140, 204, 213, 364, 380, 384, 380, 385, 375, 380, 372, 341, 304, 278]}, 'region_attributes': {}}], 'file_attributes': {}}, '19. inhaler-thc-1.jpg71775': {'filename': '19. inhaler-thc-1.jpg', 'size': 71775, 'regions': [{'shape_attributes': {'name': 'polyline', 'all_points_x': [42, 28, 24, 31, 38, 74, 84, 269, 273, 281, 289, 343, 361, 362, 360, 350, 342, 98, 73, 44, 40, 38], 'all_points_y': [399, 416, 444, 471, 472, 478, 504, 530, 550, 564, 574, 574, 538, 505, 476, 441, 416, 392, 399, 395, 400, 403]}, 'region_attributes': {}}], 'file_attributes': {}}, '21. inhaler-300x300.jpg6990': {'filename': '21. inhaler-300x300.jpg', 'size': 6990, 'regions': [{'shape_attributes': {'name': 'polyline', 'all_points_x': [96, 111, 137, 149, 149, 152, 162, 178, 216, 214, 197, 183, 177, 130, 115, 92, 99, 94, 98], 'all_points_y': [60, 48, 46, 53, 63, 80, 79, 196, 217, 235, 256, 264, 265, 245, 232, 96, 95, 60, 58]}, 'region_attributes': {}}], 'file_attributes': {}}, '22. sports-haler-asthma-inhaler-cover.jpg48392': {'filename': '22. sports-haler-asthma-inhaler-cover.jpg', 'size': 48392, 'regions': [{'shape_attributes': {'name': 'polyline', 'all_points_x': [535, 571, 622, 680, 682, 685, 688, 664, 630, 623, 631, 642, 631, 572, 486, 458, 436, 414, 390, 386, 394, 396, 446, 441, 492, 504, 511, 523, 535], 'all_points_y': [74, 68, 78, 94, 114, 146, 185, 287, 424, 497, 557, 613, 625, 660, 656, 642, 622, 617, 599, 594, 553, 509, 500, 472, 215, 166, 136, 102, 75]}, 'region_attributes': {}}], 'file_attributes': {}}, '27. presspart-metered-dose-inhaler-actuators-1200x600at2x-1200x600@2x.jpg51751': {'filename': '27. presspart-metered-dose-inhaler-actuators-1200x600at2x-1200x600@2x.jpg', 'size': 51751, 'regions': [{'shape_attributes': {'name': 'polyline', 'all_points_x': [208, 366, 380, 458, 488, 554, 558, 515, 487, 433, 305, 210], 'all_points_y': [394, 323, 325, 629, 643, 657, 718, 762, 774, 766, 739, 391]}, 'region_attributes': {}}, {'shape_attributes': {'name': 'polyline', 'all_points_x': [371, 387, 421, 465, 508, 522, 584, 650, 664, 666, 657, 595, 563, 558, 492, 472, 465, 377], 'all_points_y': [302, 298, 284, 270, 265, 263, 570, 597, 611, 668, 691, 710, 718, 647, 636, 629, 622, 300]}, 'region_attributes': {}}, {'shape_attributes': {'name': 'polyline', 'all_points_x': [536, 559, 694, 705, 750, 805, 810, 803, 771, 728, 702, 677, 670, 668, 622, 586, 536], 'all_points_y': [291, 275, 249, 256, 552, 584, 638, 652, 670, 682, 684, 673, 673, 600, 583, 570, 290]}, 'region_attributes': {}}, {'shape_attributes': {'name': 'polyline', 'all_points_x': [757, 764, 774, 913, 918, 943, 970, 963, 929, 872, 829, 813, 810, 776, 758], 'all_points_y': [284, 249, 242, 242, 256, 542, 561, 620, 636, 647, 632, 625, 581, 567, 282]}, 'region_attributes': {}}, {'shape_attributes': {'name': 'polyline', 'all_points_x': [1018, 1046, 1089, 1146, 1169, 1176, 1135, 1112, 1035, 1005, 970, 977, 989, 1018], 'all_points_y': [243, 240, 242, 247, 252, 268, 616, 631, 639, 632, 613, 547, 536, 243]}, 'region_attributes': {}}, {'shape_attributes': {'name': 'polyline', 'all_points_x': [1218, 1254, 1307, 1366, 1380, 1382, 1339, 1282, 1282, 1263, 1211, 1181, 1149, 1137, 1140, 1179, 1218], 'all_points_y': [250, 249, 261, 277, 277, 348, 586, 620, 668, 675, 680, 670, 652, 645, 584, 551, 252]}, 'region_attributes': {}}, {'shape_attributes': {'name': 'polyline', 'all_points_x': [1547, 1527, 1476, 1408, 1380, 1348, 1282, 1279, 1307, 1339, 1389, 1414, 1423, 1503, 1547], 'all_points_y': [393, 380, 362, 350, 348, 588, 622, 675, 694, 710, 719, 710, 655, 623, 393]}, 'region_attributes': {}}, {'shape_attributes': {'name': 'polyline', 'all_points_x': [1554, 1586, 1686, 1719, 1655, 1519, 1496, 1460, 1430, 1414, 1424, 1508, 1556], 'all_points_y': [391, 398, 435, 455, 730, 767, 771, 757, 730, 703, 655, 623, 387]}, 'region_attributes': {}}], 'file_attributes': {}}, '28. 6755-0-proair-albuterol-inhaler-for-dogs-and-cats-rx.jpg22023': {'filename': '28. 6755-0-proair-albuterol-inhaler-for-dogs-and-cats-rx.jpg', 'size': 22023, 'regions': [{'shape_attributes': {'name': 'polyline', 'all_points_x': [217, 246, 270, 278, 290, 295, 302, 306, 327, 363, 381, 378, 394, 362, 352, 307, 221, 216], 'all_points_y': [282, 269, 254, 236, 155, 146, 146, 112, 108, 112, 124, 168, 167, 357, 361, 353, 345, 282]}, 'region_attributes': {}}], 'file_attributes': {}}, '29. asthma%20inhaler.jpg17976': {'filename': '29. asthma%20inhaler.jpg', 'size': 17976, 'regions': [{'shape_attributes': {'name': 'polyline', 'all_points_x': [114, 122, 148, 173, 196, 216, 226, 253, 276, 308, 310, 311, 275, 251, 226, 214, 199, 140, 115, 125, 114], 'all_points_y': [80, 65, 56, 54, 54, 58, 108, 114, 286, 305, 308, 356, 377, 378, 372, 371, 376, 352, 145, 130, 79]}, 'region_attributes': {}}], 'file_attributes': {}}, '30. 170px-metered_dose.jpg8265': {'filename': '30. 170px-metered_dose.jpg', 'size': 8265, 'regions': [{'shape_attributes': {'name': 'polyline', 'all_points_x': [18, 11, 18, 20, 109, 127, 142, 150, 142, 50, 36, 18], 'all_points_y': [36, 58, 84, 89, 89, 84, 83, 53, 50, 43, 36, 37]}, 'region_attributes': {}}], 'file_attributes': {}}, '32. ventolin-inhaler-02-1.jpg135527': {'filename': '32. ventolin-inhaler-02-1.jpg', 'size': 135527, 'regions': [{'shape_attributes': {'name': 'polyline', 'all_points_x': [35, 91, 116, 154, 173, 190, 200, 230, 308, 394, 403, 399, 400, 407, 407, 372, 339, 303, 260, 219, 164, 133, 40, 48, 46, 57, 34, 38], 'all_points_y': [67, 47, 42, 38, 42, 117, 116, 131, 476, 496, 506, 518, 568, 573, 582, 602, 619, 618, 613, 611, 598, 594, 198, 190, 181, 164, 74, 66]}, 'region_attributes': {}}], 'file_attributes': {}}, '35. small_635834531491526904-inhaler---hr06.jpg46081': {'filename': '35. small_635834531491526904-inhaler---hr06.jpg', 'size': 46081, 'regions': [{'shape_attributes': {'name': 'polyline', 'all_points_x': [43, 46, 96, 158, 170, 179, 195, 234, 274, 335, 340, 307, 281, 247, 218, 179, 103, 97, 52, 62, 45], 'all_points_y': [52, 48, 37, 26, 26, 29, 99, 101, 340, 371, 439, 470, 480, 486, 484, 469, 428, 420, 148, 136, 49]}, 'region_attributes': {}}], 'file_attributes': {}}, '36. 1138365_wls-generic-asthma-inhaler-.jpg230105': {'filename': '36. 1138365_wls-generic-asthma-inhaler-.jpg', 'size': 230105, 'regions': [{'shape_attributes': {'name': 'polyline', 'all_points_x': [599, 551, 516, 492, 484, 494, 518, 546, 556, 565, 571, 826, 838, 846, 850, 912, 969, 1015, 1080, 1148, 1177, 1196, 1203, 1192, 1164, 1128, 1106, 697, 610, 599, 596], 'all_points_y': [165, 175, 205, 249, 299, 343, 374, 390, 392, 439, 448, 554, 607, 610, 614, 634, 627, 643, 627, 583, 544, 489, 438, 386, 353, 333, 329, 170, 169, 173, 166]}, 'region_attributes': {}}], 'file_attributes': {}}, '40. 34968d4ed42d448baa842b2b859f1a36.jpg12288': {'filename': '40. 34968d4ed42d448baa842b2b859f1a36.jpg', 'size': 12288, 'regions': [{'shape_attributes': {'name': 'polyline', 'all_points_x': [58, 73, 92, 111, 118, 126, 140, 178, 182, 222, 228, 225, 179, 140, 114, 60, 70, 55, 60], 'all_points_y': [51, 38, 33, 31, 34, 58, 54, 192, 191, 200, 230, 249, 260, 265, 265, 113, 96, 53, 48]}, 'region_attributes': {}}], 'file_attributes': {}}, '42. respiratory-inhaler-market-400x225.jpg12017': {'filename': '42. respiratory-inhaler-market-400x225.jpg', 'size': 12017, 'regions': [{'shape_attributes': {'name': 'polyline', 'all_points_x': [217, 213, 217, 228, 237, 235, 242, 240, 250, 260, 270, 268, 271, 272, 234, 225, 216], 'all_points_y': [36, 48, 59, 65, 64, 108, 108, 126, 129, 129, 132, 112, 112, 40, 32, 32, 36]}, 'region_attributes': {}}, {'shape_attributes': {'name': 'polyline', 'all_points_x': [111, 127, 141, 147, 149, 208, 217, 234, 244, 243, 236, 216, 134, 123, 116, 111], 'all_points_y': [133, 127, 133, 141, 153, 142, 148, 144, 156, 170, 176, 181, 200, 193, 167, 132]}, 'region_attributes': {}}, {'shape_attributes': {'name': 'polyline', 'all_points_x': [283, 266, 272, 282, 298, 310, 315, 359, 361, 372, 377, 371, 365, 357, 350, 309, 304, 298, 286, 278], 'all_points_y': [123, 130, 156, 185, 190, 188, 184, 172, 168, 166, 154, 141, 136, 136, 131, 144, 128, 122, 122, 124]}, 'region_attributes': {}}, {'shape_attributes': {'name': 'polyline', 'all_points_x': [314, 326, 326, 332, 330, 342, 355, 358, 358, 362, 361, 347, 330, 312, 314], 'all_points_y': [23, 28, 96, 100, 110, 112, 111, 111, 96, 89, 12, 6, 4, 8, 22]}, 'region_attributes': {}}], 'file_attributes': {}}, '45. qvar_inhaler.jpg11073': {'filename': '45. qvar_inhaler.jpg', 'size': 11073, 'regions': [{'shape_attributes': {'name': 'polyline', 'all_points_x': [219, 226, 266, 268, 272, 272, 277, 283, 294, 324, 330, 319, 302, 286, 277, 262, 243, 235, 224, 222, 216, 220, 221], 'all_points_y': [101, 96, 95, 100, 125, 126, 216, 217, 212, 221, 247, 266, 275, 272, 265, 263, 251, 248, 241, 236, 138, 136, 98]}, 'region_attributes': {}}], 'file_attributes': {}}, '48. multiple-colored-inhalers-on-white-466982487-5b03162e8e1b6e0036589371.jpg145638': {'filename': '48. multiple-colored-inhalers-on-white-466982487-5b03162e8e1b6e0036589371.jpg', 'size': 145638, 'regions': [{'shape_attributes': {'name': 'polyline', 'all_points_x': [2865, 2835, 2878, 2997, 3095, 3189, 3240, 3249, 3312, 3671, 3641, 3564, 3453, 3300, 2967, 2925, 2822, 2809, 2835, 2895, 2912, 3023, 2873, 2852, 2873], 'all_points_y': [1228, 1125, 1023, 972, 968, 1010, 1104, 1143, 1177, 1953, 2029, 2119, 2170, 2230, 2332, 2332, 2174, 2021, 1897, 1825, 1808, 1786, 1415, 1309, 1202]}, 'region_attributes': {}}, {'shape_attributes': {'name': 'polyline', 'all_points_x': [963, 993, 998, 955, 861, 763, 669, 657, 584, 524, 98, 145, 217, 315, 776, 929, 968, 942, 891, 819, 951, 985, 963], 'all_points_y': [1317, 1249, 1177, 1108, 1040, 1027, 1040, 1070, 1160, 1194, 1773, 1927, 1978, 2038, 2255, 2119, 1957, 1812, 1748, 1718, 1501, 1415, 1313]}, 'region_attributes': {}}], 'file_attributes': {}}, '54. fostair-inhaler-p475-815_medium.jpg9145': {'filename': '54. fostair-inhaler-p475-815_medium.jpg', 'size': 9145, 'regions': [{'shape_attributes': {'name': 'polyline', 'all_points_x': [322, 326, 328, 359, 387, 405, 405, 395, 401, 371, 304, 269, 246, 237, 240, 273, 302, 322], 'all_points_y': [235, 210, 193, 188, 195, 201, 214, 254, 267, 473, 488, 492, 483, 474, 433, 421, 240, 236]}, 'region_attributes': {}}], 'file_attributes': {}}, '58. ineffective-asthma-inhaler-500x500.jpg14203': {'filename': '58. ineffective-asthma-inhaler-500x500.jpg', 'size': 14203, 'regions': [{'shape_attributes': {'name': 'polyline', 'all_points_x': [62, 162, 252, 274, 303, 316, 415, 418, 378, 391, 286, 114, 38, 34, 55, 64], 'all_points_y': [321, 338, 140, 144, 84, 81, 131, 140, 227, 243, 462, 448, 432, 417, 327, 320]}, 'region_attributes': {}}], 'file_attributes': {}}, '60. asthma-inhaler-1406174905.jpg10588': {'filename': '60. asthma-inhaler-1406174905.jpg', 'size': 10588, 'regions': [{'shape_attributes': {'name': 'polyline', 'all_points_x': [70, 87, 110, 134, 135, 144, 158, 193, 248, 245, 246, 249, 223, 208, 190, 170, 104, 100, 108, 68, 79, 68], 'all_points_y': [22, 11, 8, 4, 12, 43, 44, 212, 226, 235, 258, 262, 286, 286, 282, 290, 273, 247, 244, 74, 66, 24]}, 'region_attributes': {}}], 'file_attributes': {}}, '62. reliever%20inhaler.jpg17363': {'filename': '62. reliever%20inhaler.jpg', 'size': 17363, 'regions': [{'shape_attributes': {'name': 'polyline', 'all_points_x': [240, 228, 226, 234, 255, 262, 275, 388, 386, 426, 470, 485, 552, 583, 597, 589, 579, 562, 523, 350, 239], 'all_points_y': [4, 32, 65, 76, 88, 118, 132, 210, 260, 288, 280, 286, 251, 224, 163, 149, 148, 132, 110, 3, 8]}, 'region_attributes': {}}], 'file_attributes': {}}, '64. qvar-100-easi-breathe-pl-00289_1376.jpg138715': {'filename': '64. qvar-100-easi-breathe-pl-00289_1376.jpg', 'size': 138715, 'regions': [{'shape_attributes': {'name': 'polyline', 'all_points_x': [779, 803, 811, 815, 839, 886, 943, 974, 987, 915, 898, 893, 865, 855, 845, 817, 787, 754, 721, 696, 678, 668, 665, 674, 685, 696, 714, 738, 742, 778], 'all_points_y': [248, 239, 234, 226, 222, 229, 241, 264, 272, 709, 738, 758, 801, 799, 789, 821, 828, 822, 808, 793, 776, 766, 735, 730, 702, 661, 595, 518, 497, 248]}, 'region_attributes': {}}], 'file_attributes': {}}, '65. nws_20131014_new_002_29251289_i1.jpg26543': {'filename': '65. nws_20131014_new_002_29251289_i1.jpg', 'size': 26543, 'regions': [{'shape_attributes': {'name': 'polyline', 'all_points_x': [41, 72, 189, 200, 236, 254, 430, 561, 583, 579, 593, 598, 573, 556, 530, 269, 262, 64, 92, 38, 43], 'all_points_y': [76, 57, 9, 18, 96, 85, 477, 469, 480, 504, 560, 567, 618, 622, 627, 660, 657, 223, 196, 76, 75]}, 'region_attributes': {}}], 'file_attributes': {}}, '66. ventolin_inhaler_0000s_0000_venom.jpg47975': {'filename': '66. ventolin_inhaler_0000s_0000_venom.jpg', 'size': 47975, 'regions': [{'shape_attributes': {'name': 'polyline', 'all_points_x': [114, 119, 116, 158, 207, 237, 280, 308, 370, 427, 456, 464, 458, 458, 469, 469, 453, 428, 388, 339, 279, 229, 201, 186, 114, 119], 'all_points_y': [113, 109, 94, 46, 36, 29, 33, 47, 403, 416, 430, 436, 450, 503, 508, 519, 524, 538, 549, 551, 538, 527, 529, 521, 112, 107]}, 'region_attributes': {}}], 'file_attributes': {}}, '67. 650x350_how_to_use_an_inhaler_video.jpg34816': {'filename': '67. 650x350_how_to_use_an_inhaler_video.jpg', 'size': 34816, 'regions': [{'shape_attributes': {'name': 'polyline', 'all_points_x': [305, 334, 362, 375, 360, 358, 366, 375, 381, 387, 434, 431, 425, 391, 385, 330, 317, 311, 319, 301, 313, 306], 'all_points_y': [51, 47, 42, 104, 116, 133, 144, 147, 147, 209, 220, 257, 268, 264, 271, 267, 263, 236, 237, 96, 89, 49]}, 'region_attributes': {}}], 'file_attributes': {}}, '68. 2b44fbde-a3f7-4e0d-ba45-14248c9c0db2-large16x9_fdaapprovesreturnofpopularprimatenemistasthmainhaler.jpg25547': {'filename': '68. 2b44fbde-a3f7-4e0d-ba45-14248c9c0db2-large16x9_fdaapprovesreturnofpopularprimatenemistasthmainhaler.jpg', 'size': 25547, 'regions': [{'shape_attributes': {'name': 'polyline', 'all_points_x': [343, 330, 339, 334, 346, 374, 402, 424, 438, 442, 453, 464, 492, 570, 614, 646, 665, 663, 631, 602, 570, 533, 439, 421, 330, 346], 'all_points_y': [123, 64, 56, 44, 28, 16, 8, 11, 16, 32, 36, 77, 81, 410, 416, 427, 436, 513, 536, 544, 544, 536, 524, 524, 139, 120]}, 'region_attributes': {}}], 'file_attributes': {}}, '70. propeller-health-sensor-1100x733.jpg40641': {'filename': '70. propeller-health-sensor-1100x733.jpg', 'size': 40641, 'regions': [{'shape_attributes': {'name': 'polyline', 'all_points_x': [585, 613, 648, 648, 660, 654, 663, 662, 648, 603, 583, 572, 566, 574, 583, 584], 'all_points_y': [197, 192, 195, 226, 227, 364, 386, 417, 420, 423, 408, 380, 367, 222, 221, 197]}, 'region_attributes': {}}], 'file_attributes': {}}, '72. different-types-of-inhalers-large.jpg44757': {'filename': '72. different-types-of-inhalers-large.jpg', 'size': 44757, 'regions': [{'shape_attributes': {'name': 'polyline', 'all_points_x': [43, 138, 190, 201, 217, 239, 258, 271, 276, 276, 271, 273, 227, 137, 134, 136, 92, 54, 42, 42, 43], 'all_points_y': [194, 181, 87, 88, 80, 80, 87, 103, 114, 128, 134, 139, 239, 241, 275, 306, 307, 305, 229, 218, 193]}, 'region_attributes': {}}, {'shape_attributes': {'name': 'polyline', 'all_points_x': [294, 305, 305, 323, 346, 370, 383, 388, 372, 378, 310, 203, 195, 196, 138, 135, 139, 226, 296], 'all_points_y': [103, 105, 96, 89, 88, 96, 114, 133, 159, 171, 316, 310, 334, 357, 350, 274, 241, 237, 101]}, 'region_attributes': {}}, {'shape_attributes': {'name': 'polyline', 'all_points_x': [379, 398, 424, 453, 470, 473, 401, 315, 313, 310, 205, 197, 195, 195, 204, 313, 382], 'all_points_y': [180, 168, 162, 175, 201, 211, 360, 354, 395, 422, 416, 388, 356, 330, 310, 314, 178]}, 'region_attributes': {}}, {'shape_attributes': {'name': 'polyline', 'all_points_x': [482, 491, 497, 515, 543, 566, 573, 573, 561, 570, 486, 432, 385, 337, 314, 315, 318, 404, 481], 'all_points_y': [203, 205, 194, 189, 194, 206, 224, 235, 263, 279, 479, 482, 484, 476, 473, 393, 355, 359, 203]}, 'region_attributes': {}}], 'file_attributes': {}}, '79. flovent.jpg13475': {'filename': '79. flovent.jpg', 'size': 13475, 'regions': [{'shape_attributes': {'name': 'polyline', 'all_points_x': [32, 35, 77, 81, 85, 88, 98, 96, 76, 74, 52, 34, 28, 30, 33], 'all_points_y': [72, 50, 49, 68, 72, 149, 160, 181, 188, 193, 191, 181, 171, 77, 70]}, 'region_attributes': {}}, {'shape_attributes': {'name': 'polyline', 'all_points_x': [110, 111, 170, 171, 181, 181, 199, 195, 178, 169, 162, 138, 109, 108, 106, 104, 110], 'all_points_y': [57, 24, 27, 51, 53, 166, 175, 202, 212, 213, 224, 220, 208, 194, 192, 64, 53]}, 'region_attributes': {}}, {'shape_attributes': {'name': 'polyline', 'all_points_x': [204, 206, 247, 249, 258, 258, 269, 266, 243, 241, 224, 204, 202, 200, 201, 206, 204], 'all_points_y': [68, 49, 51, 71, 70, 151, 159, 183, 188, 193, 192, 180, 174, 162, 77, 72, 64]}, 'region_attributes': {}}], 'file_attributes': {}}, '80. ldp.2019.e1941_0001.jpg119735': {'filename': '80. ldp.2019.e1941_0001.jpg', 'size': 119735, 'regions': [{'shape_attributes': {'name': 'polyline', 'all_points_x': [111, 102, 129, 158, 194, 205, 206, 224, 247, 315, 310, 293, 274, 245, 177, 154, 135, 126, 98, 112], 'all_points_y': [154, 80, 71, 69, 68, 72, 128, 129, 352, 389, 429, 464, 475, 488, 449, 436, 404, 366, 156, 150]}, 'region_attributes': {}}], 'file_attributes': {}}, '88. salamol-inhaler.jpg20902': {'filename': '88. salamol-inhaler.jpg', 'size': 20902, 'regions': [{'shape_attributes': {'name': 'polyline', 'all_points_x': [167, 171, 180, 208, 489, 505, 517, 515, 506, 497, 334, 309, 294, 242, 230, 222, 201, 182, 169, 168], 'all_points_y': [244, 212, 189, 152, 149, 168, 200, 236, 270, 280, 285, 288, 294, 288, 284, 300, 299, 298, 275, 239]}, 'region_attributes': {}}], 'file_attributes': {}}, '89. s-l300.jpg14845': {'filename': '89. s-l300.jpg', 'size': 14845, 'regions': [{'shape_attributes': {'name': 'polyline', 'all_points_x': [19, 70, 114, 133, 159, 181, 198, 208, 149, 127, 110, 63, 36, 26, 20, 21], 'all_points_y': [208, 180, 27, 27, 36, 44, 56, 67, 240, 252, 263, 280, 262, 244, 232, 204]}, 'region_attributes': {}}], 'file_attributes': {}}, '90. blue_breahter_1050x.png59315': {'filename': '90. blue_breahter_1050x.png', 'size': 59315, 'regions': [{'shape_attributes': {'name': 'polyline', 'all_points_x': [122, 202, 264, 281, 290, 317, 404, 429, 401, 423, 343, 202, 158, 132, 118, 122, 124], 'all_points_y': [387, 362, 173, 173, 174, 111, 132, 149, 233, 250, 469, 499, 490, 475, 455, 398, 388]}, 'region_attributes': {}}], 'file_attributes': {}}, '91. inhaler-asthma-health-474354655-thinkstock.jpg85800': {'filename': '91. inhaler-asthma-health-474354655-thinkstock.jpg', 'size': 85800, 'regions': [{'shape_attributes': {'name': 'polyline', 'all_points_x': [251, 264, 264, 294, 339, 375, 412, 412, 420, 485, 494, 500, 569, 596, 623, 620, 601, 553, 522, 509, 502, 469, 439, 394, 364, 344, 324, 318, 251], 'all_points_y': [81, 78, 71, 49, 45, 38, 47, 63, 55, 362, 361, 371, 366, 369, 384, 439, 447, 461, 469, 471, 475, 475, 459, 466, 475, 475, 362, 350, 80]}, 'region_attributes': {}}], 'file_attributes': {}}, '93. home-cta-1-noborder.png270141': {'filename': '93. home-cta-1-noborder.png', 'size': 270141, 'regions': [{'shape_attributes': {'name': 'polyline', 'all_points_x': [176, 191, 191, 250, 254, 261, 263, 250, 213, 190, 168, 156, 151, 164, 183, 178], 'all_points_y': [135, 127, 92, 93, 127, 131, 260, 269, 294, 300, 294, 281, 255, 235, 207, 133]}, 'region_attributes': {}}], 'file_attributes': {}}, '97. fostair-asthma-inhaler-3d-model-max-obj-3ds-fbx-mtl.jpg49777': {'filename': '97. fostair-asthma-inhaler-3d-model-max-obj-3ds-fbx-mtl.jpg', 'size': 49777, 'regions': [{'shape_attributes': {'name': 'polyline', 'all_points_x': [320, 373, 454, 525, 564, 598, 639, 738, 890, 910, 906, 859, 817, 782, 716, 523, 476, 351, 359, 328], 'all_points_y': [186, 146, 132, 134, 138, 282, 300, 813, 853, 863, 945, 1018, 1050, 1060, 1042, 975, 936, 355, 349, 182]}, 'region_attributes': {}}], 'file_attributes': {}}, '98. smartinhalereu.jpg131747': {'filename': '98. smartinhalereu.jpg', 'size': 131747, 'regions': [{'shape_attributes': {'name': 'polyline', 'all_points_x': [93, 81, 79, 86, 98, 120, 480, 487, 513, 514, 483, 473, 93], 'all_points_y': [149, 188, 216, 252, 279, 290, 280, 263, 265, 148, 152, 135, 145]}, 'region_attributes': {}}], 'file_attributes': {}}, '99. 04863-1.0-n-fuzed_inhaler_nd-copy-e1555377997156.jpg85275': {'filename': '99. 04863-1.0-n-fuzed_inhaler_nd-copy-e1555377997156.jpg', 'size': 85275, 'regions': [{'shape_attributes': {'name': 'polyline', 'all_points_x': [568, 637, 714, 804, 863, 875, 773, 778, 445, 402, 410, 427, 427, 497, 545, 578], 'all_points_y': [1298, 1321, 1310, 1277, 1241, 1119, 1024, 294, 287, 348, 1001, 1047, 1185, 1221, 1287, 1300]}, 'region_attributes': {}}], 'file_attributes': {}}}, {'region': {}, 'file': {}}]\n"
     ]
    },
    {
     "ename": "KeyError",
     "evalue": "'regions'",
     "output_type": "error",
     "traceback": [
      "\u001b[1;31m---------------------------------------------------------------------------\u001b[0m",
      "\u001b[1;31mKeyError\u001b[0m                                  Traceback (most recent call last)",
      "\u001b[1;32m<ipython-input-3-2172666f96c7>\u001b[0m in \u001b[0;36m<module>\u001b[1;34m()\u001b[0m\n\u001b[0;32m      3\u001b[0m \u001b[1;31m# https://github.com/matterport/Mask_RCNN/releases\u001b[0m\u001b[1;33m\u001b[0m\u001b[1;33m\u001b[0m\u001b[0m\n\u001b[0;32m      4\u001b[0m \u001b[0mdataset\u001b[0m \u001b[1;33m=\u001b[0m \u001b[0mdataset_loader\u001b[0m\u001b[1;33m.\u001b[0m\u001b[0mBalloonDataset\u001b[0m\u001b[1;33m(\u001b[0m\u001b[1;33m)\u001b[0m\u001b[1;33m\u001b[0m\u001b[0m\n\u001b[1;32m----> 5\u001b[1;33m \u001b[0mdataset\u001b[0m\u001b[1;33m.\u001b[0m\u001b[0mload_balloon\u001b[0m\u001b[1;33m(\u001b[0m\u001b[0mDATASET_DIR\u001b[0m\u001b[1;33m,\u001b[0m \u001b[1;34m\"train\"\u001b[0m\u001b[1;33m)\u001b[0m\u001b[1;33m\u001b[0m\u001b[0m\n\u001b[0m\u001b[0;32m      6\u001b[0m \u001b[1;33m\u001b[0m\u001b[0m\n\u001b[0;32m      7\u001b[0m \u001b[1;33m\u001b[0m\u001b[0m\n",
      "\u001b[1;32m~\\Desktop\\Mask_RCNN\\dataset_loader.py\u001b[0m in \u001b[0;36mload_balloon\u001b[1;34m(self, dataset_dir, subset)\u001b[0m\n\u001b[0;32m    117\u001b[0m         \u001b[1;31m# The VIA tool saves images in the JSON even if they don't have any\u001b[0m\u001b[1;33m\u001b[0m\u001b[1;33m\u001b[0m\u001b[0m\n\u001b[0;32m    118\u001b[0m         \u001b[1;31m# annotations. Skip unannotated images.\u001b[0m\u001b[1;33m\u001b[0m\u001b[1;33m\u001b[0m\u001b[0m\n\u001b[1;32m--> 119\u001b[1;33m         \u001b[0mannotations\u001b[0m \u001b[1;33m=\u001b[0m \u001b[1;33m[\u001b[0m\u001b[0ma\u001b[0m \u001b[1;32mfor\u001b[0m \u001b[0ma\u001b[0m \u001b[1;32min\u001b[0m \u001b[0mannotations\u001b[0m \u001b[1;32mif\u001b[0m \u001b[0ma\u001b[0m\u001b[1;33m[\u001b[0m\u001b[1;34m'regions'\u001b[0m\u001b[1;33m]\u001b[0m\u001b[1;33m]\u001b[0m\u001b[1;33m\u001b[0m\u001b[0m\n\u001b[0m\u001b[0;32m    120\u001b[0m \u001b[1;33m\u001b[0m\u001b[0m\n\u001b[0;32m    121\u001b[0m         \u001b[1;31m# Add images\u001b[0m\u001b[1;33m\u001b[0m\u001b[1;33m\u001b[0m\u001b[0m\n",
      "\u001b[1;32m~\\Desktop\\Mask_RCNN\\dataset_loader.py\u001b[0m in \u001b[0;36m<listcomp>\u001b[1;34m(.0)\u001b[0m\n\u001b[0;32m    117\u001b[0m         \u001b[1;31m# The VIA tool saves images in the JSON even if they don't have any\u001b[0m\u001b[1;33m\u001b[0m\u001b[1;33m\u001b[0m\u001b[0m\n\u001b[0;32m    118\u001b[0m         \u001b[1;31m# annotations. Skip unannotated images.\u001b[0m\u001b[1;33m\u001b[0m\u001b[1;33m\u001b[0m\u001b[0m\n\u001b[1;32m--> 119\u001b[1;33m         \u001b[0mannotations\u001b[0m \u001b[1;33m=\u001b[0m \u001b[1;33m[\u001b[0m\u001b[0ma\u001b[0m \u001b[1;32mfor\u001b[0m \u001b[0ma\u001b[0m \u001b[1;32min\u001b[0m \u001b[0mannotations\u001b[0m \u001b[1;32mif\u001b[0m \u001b[0ma\u001b[0m\u001b[1;33m[\u001b[0m\u001b[1;34m'regions'\u001b[0m\u001b[1;33m]\u001b[0m\u001b[1;33m]\u001b[0m\u001b[1;33m\u001b[0m\u001b[0m\n\u001b[0m\u001b[0;32m    120\u001b[0m \u001b[1;33m\u001b[0m\u001b[0m\n\u001b[0;32m    121\u001b[0m         \u001b[1;31m# Add images\u001b[0m\u001b[1;33m\u001b[0m\u001b[1;33m\u001b[0m\u001b[0m\n",
      "\u001b[1;31mKeyError\u001b[0m: 'regions'"
     ]
    }
   ],
   "source": [
    "# Load dataset\n",
    "# Get the dataset from the releases page\n",
    "# https://github.com/matterport/Mask_RCNN/releases\n",
    "dataset = dataset_loader.BalloonDataset()\n",
    "dataset.load_balloon(DATASET_DIR, \"train\")\n",
    "\n",
    "\n",
    "# Must call before using the dataset\n",
    "dataset.prepare()\n",
    "\n",
    "print(\"Image Count: {}\".format(len(dataset.image_ids)))\n",
    "print(\"Class Count: {}\".format(dataset.num_classes))\n",
    "for i, info in enumerate(dataset.class_info):\n",
    "    print(\"{:3}. {:50}\".format(i, info['name']))"
   ]
  },
  {
   "cell_type": "markdown",
   "metadata": {},
   "source": [
    "## Display Samples\n",
    "\n",
    "Load and display images and masks."
   ]
  },
  {
   "cell_type": "code",
   "execution_count": null,
   "metadata": {
    "scrolled": false
   },
   "outputs": [],
   "source": [
    "# Load and display random samples\n",
    "image_ids = np.random.choice(dataset.image_ids, 4)\n",
    "for image_id in image_ids:\n",
    "    image = dataset.load_image(image_id)\n",
    "    mask, class_ids = dataset.load_mask(image_id)\n",
    "    visualize.display_top_masks(image, mask, class_ids, dataset.class_names)"
   ]
  },
  {
   "cell_type": "markdown",
   "metadata": {},
   "source": [
    "## Bounding Boxes\n",
    "\n",
    "Rather than using bounding box coordinates provided by the source datasets, we compute the bounding boxes from masks instead. This allows us to handle bounding boxes consistently regardless of the source dataset, and it also makes it easier to resize, rotate, or crop images because we simply generate the bounding boxes from the updates masks rather than computing bounding box transformation for each type of image transformation."
   ]
  },
  {
   "cell_type": "code",
   "execution_count": null,
   "metadata": {},
   "outputs": [],
   "source": [
    "# Load random image and mask.\n",
    "image_id = random.choice(dataset.image_ids)\n",
    "image = dataset.load_image(image_id)\n",
    "mask, class_ids = dataset.load_mask(image_id)\n",
    "# Compute Bounding box\n",
    "bbox = utils.extract_bboxes(mask)\n",
    "\n",
    "# Display image and additional stats\n",
    "print(\"image_id \", image_id, dataset.image_reference(image_id))\n",
    "log(\"image\", image)\n",
    "log(\"mask\", mask)\n",
    "log(\"class_ids\", class_ids)\n",
    "log(\"bbox\", bbox)\n",
    "# Display image and instances\n",
    "visualize.display_instances(image, bbox, mask, class_ids, dataset.class_names)"
   ]
  },
  {
   "cell_type": "markdown",
   "metadata": {},
   "source": [
    "## Resize Images\n",
    "\n",
    "To support multiple images per batch, images are resized to one size (1024x1024). Aspect ratio is preserved, though. If an image is not square, then zero padding is added at the top/bottom or right/left."
   ]
  },
  {
   "cell_type": "code",
   "execution_count": null,
   "metadata": {},
   "outputs": [],
   "source": [
    "# Load random image and mask.\n",
    "image_id = np.random.choice(dataset.image_ids, 1)[0]\n",
    "image = dataset.load_image(image_id)\n",
    "mask, class_ids = dataset.load_mask(image_id)\n",
    "original_shape = image.shape\n",
    "# Resize\n",
    "image, window, scale, padding, _ = utils.resize_image(\n",
    "    image, \n",
    "    min_dim=config.IMAGE_MIN_DIM, \n",
    "    max_dim=config.IMAGE_MAX_DIM,\n",
    "    mode=config.IMAGE_RESIZE_MODE)\n",
    "mask = utils.resize_mask(mask, scale, padding)\n",
    "# Compute Bounding box\n",
    "bbox = utils.extract_bboxes(mask)\n",
    "\n",
    "# Display image and additional stats\n",
    "print(\"image_id: \", image_id, dataset.image_reference(image_id))\n",
    "print(\"Original shape: \", original_shape)\n",
    "log(\"image\", image)\n",
    "log(\"mask\", mask)\n",
    "log(\"class_ids\", class_ids)\n",
    "log(\"bbox\", bbox)\n",
    "# Display image and instances\n",
    "visualize.display_instances(image, bbox, mask, class_ids, dataset.class_names)"
   ]
  },
  {
   "cell_type": "markdown",
   "metadata": {},
   "source": [
    "## Mini Masks\n",
    "\n",
    "Instance binary masks can get large when training with high resolution images. For example, if training with 1024x1024 image then the mask of a single instance requires 1MB of memory (Numpy uses bytes for boolean values). If an image has 100 instances then that's 100MB for the masks alone. \n",
    "\n",
    "To improve training speed, we optimize masks by:\n",
    "* We store mask pixels that are inside the object bounding box, rather than a mask of the full image. Most objects are small compared to the image size, so we save space by not storing a lot of zeros around the object.\n",
    "* We resize the mask to a smaller size (e.g. 56x56). For objects that are larger than the selected size we lose a bit of accuracy. But most object annotations are not very accuracy to begin with, so this loss is negligable for most practical purposes. Thie size of the mini_mask can be set in the config class.\n",
    "\n",
    "To visualize the effect of mask resizing, and to verify the code correctness, we visualize some examples."
   ]
  },
  {
   "cell_type": "code",
   "execution_count": null,
   "metadata": {
    "scrolled": false
   },
   "outputs": [],
   "source": [
    "image_id = np.random.choice(dataset.image_ids, 1)[0]\n",
    "image, image_meta, class_ids, bbox, mask = modellib.load_image_gt(\n",
    "    dataset, config, image_id, use_mini_mask=False)\n",
    "\n",
    "log(\"image\", image)\n",
    "log(\"image_meta\", image_meta)\n",
    "log(\"class_ids\", class_ids)\n",
    "log(\"bbox\", bbox)\n",
    "log(\"mask\", mask)\n",
    "\n",
    "display_images([image]+[mask[:,:,i] for i in range(min(mask.shape[-1], 7))])"
   ]
  },
  {
   "cell_type": "code",
   "execution_count": null,
   "metadata": {},
   "outputs": [],
   "source": [
    "visualize.display_instances(image, bbox, mask, class_ids, dataset.class_names)"
   ]
  },
  {
   "cell_type": "code",
   "execution_count": null,
   "metadata": {
    "scrolled": false
   },
   "outputs": [],
   "source": [
    "# Add augmentation and mask resizing.\n",
    "image, image_meta, class_ids, bbox, mask = modellib.load_image_gt(\n",
    "    dataset, config, image_id, augment=True, use_mini_mask=True)\n",
    "log(\"mask\", mask)\n",
    "display_images([image]+[mask[:,:,i] for i in range(min(mask.shape[-1], 7))])"
   ]
  },
  {
   "cell_type": "code",
   "execution_count": null,
   "metadata": {},
   "outputs": [],
   "source": [
    "mask = utils.expand_mask(bbox, mask, image.shape)\n",
    "visualize.display_instances(image, bbox, mask, class_ids, dataset.class_names)"
   ]
  },
  {
   "cell_type": "markdown",
   "metadata": {},
   "source": [
    "## Anchors\n",
    "\n",
    "The order of anchors is important. Use the same order in training and prediction phases. And it must match the order of the convolution execution.\n",
    "\n",
    "For an FPN network, the anchors must be ordered in a way that makes it easy to match anchors to the output of the convolution layers that predict anchor scores and shifts. \n",
    "* Sort by pyramid level first. All anchors of the first level, then all of the second and so on. This makes it easier to separate anchors by level.\n",
    "* Within each level, sort anchors by feature map processing sequence. Typically, a convolution layer processes a feature map starting from top-left and moving right row by row. \n",
    "* For each feature map cell, pick any sorting order for the anchors of different ratios. Here we match the order of ratios passed to the function.\n",
    "\n",
    "**Anchor Stride:**\n",
    "In the FPN architecture, feature maps at the first few layers are high resolution. For example, if the input image is 1024x1024 then the feature meap of the first layer is 256x256, which generates about 200K anchors (256*256*3). These anchors are 32x32 pixels and their stride relative to image pixels is 4 pixels, so there is a lot of overlap. We can reduce the load significantly if we generate anchors for every other cell in the feature map. A stride of 2 will cut the number of anchors by 4, for example. \n",
    "\n",
    "In this implementation we use an anchor stride of 2, which is different from the paper."
   ]
  },
  {
   "cell_type": "code",
   "execution_count": null,
   "metadata": {},
   "outputs": [],
   "source": [
    "# Generate Anchors\n",
    "backbone_shapes = modellib.compute_backbone_shapes(config, config.IMAGE_SHAPE)\n",
    "anchors = utils.generate_pyramid_anchors(config.RPN_ANCHOR_SCALES, \n",
    "                                          config.RPN_ANCHOR_RATIOS,\n",
    "                                          backbone_shapes,\n",
    "                                          config.BACKBONE_STRIDES, \n",
    "                                          config.RPN_ANCHOR_STRIDE)\n",
    "\n",
    "# Print summary of anchors\n",
    "num_levels = len(backbone_shapes)\n",
    "anchors_per_cell = len(config.RPN_ANCHOR_RATIOS)\n",
    "print(\"Count: \", anchors.shape[0])\n",
    "print(\"Scales: \", config.RPN_ANCHOR_SCALES)\n",
    "print(\"ratios: \", config.RPN_ANCHOR_RATIOS)\n",
    "print(\"Anchors per Cell: \", anchors_per_cell)\n",
    "print(\"Levels: \", num_levels)\n",
    "anchors_per_level = []\n",
    "for l in range(num_levels):\n",
    "    num_cells = backbone_shapes[l][0] * backbone_shapes[l][1]\n",
    "    anchors_per_level.append(anchors_per_cell * num_cells // config.RPN_ANCHOR_STRIDE**2)\n",
    "    print(\"Anchors in Level {}: {}\".format(l, anchors_per_level[l]))"
   ]
  },
  {
   "cell_type": "markdown",
   "metadata": {},
   "source": [
    "Visualize anchors of one cell at the center of the feature map of a specific level."
   ]
  },
  {
   "cell_type": "code",
   "execution_count": null,
   "metadata": {},
   "outputs": [],
   "source": [
    "## Visualize anchors of one cell at the center of the feature map of a specific level\n",
    "\n",
    "# Load and draw random image\n",
    "image_id = np.random.choice(dataset.image_ids, 1)[0]\n",
    "image, image_meta, _, _, _ = modellib.load_image_gt(dataset, config, image_id)\n",
    "fig, ax = plt.subplots(1, figsize=(10, 10))\n",
    "ax.imshow(image)\n",
    "levels = len(backbone_shapes)\n",
    "\n",
    "for level in range(levels):\n",
    "    colors = visualize.random_colors(levels)\n",
    "    # Compute the index of the anchors at the center of the image\n",
    "    level_start = sum(anchors_per_level[:level]) # sum of anchors of previous levels\n",
    "    level_anchors = anchors[level_start:level_start+anchors_per_level[level]]\n",
    "    print(\"Level {}. Anchors: {:6}  Feature map Shape: {}\".format(level, level_anchors.shape[0], \n",
    "                                                                  backbone_shapes[level]))\n",
    "    center_cell = backbone_shapes[level] // 2\n",
    "    center_cell_index = (center_cell[0] * backbone_shapes[level][1] + center_cell[1])\n",
    "    level_center = center_cell_index * anchors_per_cell \n",
    "    center_anchor = anchors_per_cell * (\n",
    "        (center_cell[0] * backbone_shapes[level][1] / config.RPN_ANCHOR_STRIDE**2) \\\n",
    "        + center_cell[1] / config.RPN_ANCHOR_STRIDE)\n",
    "    level_center = int(center_anchor)\n",
    "\n",
    "    # Draw anchors. Brightness show the order in the array, dark to bright.\n",
    "    for i, rect in enumerate(level_anchors[level_center:level_center+anchors_per_cell]):\n",
    "        y1, x1, y2, x2 = rect\n",
    "        p = patches.Rectangle((x1, y1), x2-x1, y2-y1, linewidth=2, facecolor='none',\n",
    "                              edgecolor=(i+1)*np.array(colors[level]) / anchors_per_cell)\n",
    "        ax.add_patch(p)\n"
   ]
  },
  {
   "cell_type": "markdown",
   "metadata": {},
   "source": [
    "## Data Generator\n"
   ]
  },
  {
   "cell_type": "code",
   "execution_count": null,
   "metadata": {
    "scrolled": false
   },
   "outputs": [],
   "source": [
    "# Create data generator\n",
    "random_rois = 2000\n",
    "g = modellib.data_generator(\n",
    "    dataset, config, shuffle=True, random_rois=random_rois, \n",
    "    batch_size=4,\n",
    "    detection_targets=True)"
   ]
  },
  {
   "cell_type": "code",
   "execution_count": null,
   "metadata": {
    "scrolled": false
   },
   "outputs": [],
   "source": [
    "# Uncomment to run the generator through a lot of images\n",
    "# to catch rare errors\n",
    "# for i in range(1000):\n",
    "#     print(i)\n",
    "#     _, _ = next(g)"
   ]
  },
  {
   "cell_type": "code",
   "execution_count": null,
   "metadata": {
    "scrolled": false
   },
   "outputs": [],
   "source": [
    "# Get Next Image\n",
    "if random_rois:\n",
    "    [normalized_images, image_meta, rpn_match, rpn_bbox, gt_class_ids, gt_boxes, gt_masks, rpn_rois, rois], \\\n",
    "    [mrcnn_class_ids, mrcnn_bbox, mrcnn_mask] = next(g)\n",
    "    \n",
    "    log(\"rois\", rois)\n",
    "    log(\"mrcnn_class_ids\", mrcnn_class_ids)\n",
    "    log(\"mrcnn_bbox\", mrcnn_bbox)\n",
    "    log(\"mrcnn_mask\", mrcnn_mask)\n",
    "else:\n",
    "    [normalized_images, image_meta, rpn_match, rpn_bbox, gt_boxes, gt_masks], _ = next(g)\n",
    "    \n",
    "log(\"gt_class_ids\", gt_class_ids)\n",
    "log(\"gt_boxes\", gt_boxes)\n",
    "log(\"gt_masks\", gt_masks)\n",
    "log(\"rpn_match\", rpn_match, )\n",
    "log(\"rpn_bbox\", rpn_bbox)\n",
    "image_id = modellib.parse_image_meta(image_meta)[\"image_id\"][0]\n",
    "print(\"image_id: \", image_id, dataset.image_reference(image_id))\n",
    "\n",
    "# Remove the last dim in mrcnn_class_ids. It's only added\n",
    "# to satisfy Keras restriction on target shape.\n",
    "mrcnn_class_ids = mrcnn_class_ids[:,:,0]"
   ]
  },
  {
   "cell_type": "code",
   "execution_count": null,
   "metadata": {
    "scrolled": false
   },
   "outputs": [],
   "source": [
    "b = 0\n",
    "\n",
    "# Restore original image (reverse normalization)\n",
    "sample_image = modellib.unmold_image(normalized_images[b], config)\n",
    "\n",
    "# Compute anchor shifts.\n",
    "indices = np.where(rpn_match[b] == 1)[0]\n",
    "refined_anchors = utils.apply_box_deltas(anchors[indices], rpn_bbox[b, :len(indices)] * config.RPN_BBOX_STD_DEV)\n",
    "log(\"anchors\", anchors)\n",
    "log(\"refined_anchors\", refined_anchors)\n",
    "\n",
    "# Get list of positive anchors\n",
    "positive_anchor_ids = np.where(rpn_match[b] == 1)[0]\n",
    "print(\"Positive anchors: {}\".format(len(positive_anchor_ids)))\n",
    "negative_anchor_ids = np.where(rpn_match[b] == -1)[0]\n",
    "print(\"Negative anchors: {}\".format(len(negative_anchor_ids)))\n",
    "neutral_anchor_ids = np.where(rpn_match[b] == 0)[0]\n",
    "print(\"Neutral anchors: {}\".format(len(neutral_anchor_ids)))\n",
    "\n",
    "# ROI breakdown by class\n",
    "for c, n in zip(dataset.class_names, np.bincount(mrcnn_class_ids[b].flatten())):\n",
    "    if n:\n",
    "        print(\"{:23}: {}\".format(c[:20], n))\n",
    "\n",
    "# Show positive anchors\n",
    "fig, ax = plt.subplots(1, figsize=(16, 16))\n",
    "visualize.draw_boxes(sample_image, boxes=anchors[positive_anchor_ids], \n",
    "                     refined_boxes=refined_anchors, ax=ax)"
   ]
  },
  {
   "cell_type": "code",
   "execution_count": null,
   "metadata": {},
   "outputs": [],
   "source": [
    "# Show negative anchors\n",
    "visualize.draw_boxes(sample_image, boxes=anchors[negative_anchor_ids])"
   ]
  },
  {
   "cell_type": "code",
   "execution_count": null,
   "metadata": {},
   "outputs": [],
   "source": [
    "# Show neutral anchors. They don't contribute to training.\n",
    "visualize.draw_boxes(sample_image, boxes=anchors[np.random.choice(neutral_anchor_ids, 100)])"
   ]
  },
  {
   "cell_type": "markdown",
   "metadata": {},
   "source": [
    "## ROIs"
   ]
  },
  {
   "cell_type": "code",
   "execution_count": null,
   "metadata": {
    "scrolled": false
   },
   "outputs": [],
   "source": [
    "if random_rois:\n",
    "    # Class aware bboxes\n",
    "    bbox_specific = mrcnn_bbox[b, np.arange(mrcnn_bbox.shape[1]), mrcnn_class_ids[b], :]\n",
    "\n",
    "    # Refined ROIs\n",
    "    refined_rois = utils.apply_box_deltas(rois[b].astype(np.float32), bbox_specific[:,:4] * config.BBOX_STD_DEV)\n",
    "\n",
    "    # Class aware masks\n",
    "    mask_specific = mrcnn_mask[b, np.arange(mrcnn_mask.shape[1]), :, :, mrcnn_class_ids[b]]\n",
    "\n",
    "    visualize.draw_rois(sample_image, rois[b], refined_rois, mask_specific, mrcnn_class_ids[b], dataset.class_names)\n",
    "    \n",
    "    # Any repeated ROIs?\n",
    "    rows = np.ascontiguousarray(rois[b]).view(np.dtype((np.void, rois.dtype.itemsize * rois.shape[-1])))\n",
    "    _, idx = np.unique(rows, return_index=True)\n",
    "    print(\"Unique ROIs: {} out of {}\".format(len(idx), rois.shape[1]))"
   ]
  },
  {
   "cell_type": "code",
   "execution_count": null,
   "metadata": {
    "scrolled": false
   },
   "outputs": [],
   "source": [
    "if random_rois:\n",
    "    # Dispalay ROIs and corresponding masks and bounding boxes\n",
    "    ids = random.sample(range(rois.shape[1]), 8)\n",
    "\n",
    "    images = []\n",
    "    titles = []\n",
    "    for i in ids:\n",
    "        image = visualize.draw_box(sample_image.copy(), rois[b,i,:4].astype(np.int32), [255, 0, 0])\n",
    "        image = visualize.draw_box(image, refined_rois[i].astype(np.int64), [0, 255, 0])\n",
    "        images.append(image)\n",
    "        titles.append(\"ROI {}\".format(i))\n",
    "        images.append(mask_specific[i] * 255)\n",
    "        titles.append(dataset.class_names[mrcnn_class_ids[b,i]][:20])\n",
    "\n",
    "    display_images(images, titles, cols=4, cmap=\"Blues\", interpolation=\"none\")"
   ]
  },
  {
   "cell_type": "code",
   "execution_count": null,
   "metadata": {
    "scrolled": false
   },
   "outputs": [],
   "source": [
    "# Check ratio of positive ROIs in a set of images.\n",
    "if random_rois:\n",
    "    limit = 10\n",
    "    temp_g = modellib.data_generator(\n",
    "        dataset, config, shuffle=True, random_rois=10000, \n",
    "        batch_size=1, detection_targets=True)\n",
    "    total = 0\n",
    "    for i in range(limit):\n",
    "        _, [ids, _, _] = next(temp_g)\n",
    "        positive_rois = np.sum(ids[0] > 0)\n",
    "        total += positive_rois\n",
    "        print(\"{:5} {:5.2f}\".format(positive_rois, positive_rois/ids.shape[1]))\n",
    "    print(\"Average percent: {:.2f}\".format(total/(limit*ids.shape[1])))"
   ]
  },
  {
   "cell_type": "code",
   "execution_count": null,
   "metadata": {},
   "outputs": [],
   "source": []
  }
 ],
 "metadata": {
  "kernelspec": {
   "display_name": "Python 3",
   "language": "python",
   "name": "python3"
  },
  "language_info": {
   "codemirror_mode": {
    "name": "ipython",
    "version": 3
   },
   "file_extension": ".py",
   "mimetype": "text/x-python",
   "name": "python",
   "nbconvert_exporter": "python",
   "pygments_lexer": "ipython3",
   "version": "3.6.5"
  }
 },
 "nbformat": 4,
 "nbformat_minor": 2
}
